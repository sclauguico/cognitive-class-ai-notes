{
 "cells": [
  {
   "cell_type": "markdown",
   "metadata": {},
   "source": [
    "<a href=\"https://cocl.us/Data_Science_with_Scalla_top\"><img src = \"https://s3-api.us-geo.objectstorage.softlayer.net/cf-courses-data/CognitiveClass/SC0103EN/adds/Data_Science_with_Scalla_notebook_top.png\" width = 750, align = \"center\"></a>\n",
    " <br/>\n",
    "<a><img src=\"https://ibm.box.com/shared/static/ugcqz6ohbvff804xp84y4kqnvvk3bq1g.png\" width=\"200\" align=\"center\"></a>\"\n",
    "\n",
    "# Module 2: Preparing Data - Data Normalization\n",
    "\n",
    "## Data Normalization \n",
    "\n",
    "### Lesson Objectives\n",
    "\n",
    "-\tAfter completing this lesson, you should be able to: \n",
    "-\tNormalize a dataset to have unit p-norm\n",
    "-\tNormalize a dataset to have unit standard deviation and zero mean \n",
    "-\tNormalize a dataset to have given minimum and maximum values \n",
    "\n",
    "\n",
    "## Normalizer\n",
    "\n",
    "-\tA Transformer which transforms a dataset of Vector rows, normalizing each Vector to have unit norm\n",
    "-\tTakes a parameter P, which specifies the p-norm used for normalization (p=2 by default)\n",
    "- Standardize input data and improve the behavior of learning algorithms"
   ]
  },
  {
   "cell_type": "code",
   "execution_count": 1,
   "metadata": {
    "attributes": {
     "classes": [
      "scala"
     ],
     "id": ""
    }
   },
   "outputs": [
    {
     "data": {
      "text/plain": [
       "Intitializing Scala interpreter ..."
      ]
     },
     "metadata": {},
     "output_type": "display_data"
    },
    {
     "data": {
      "text/plain": [
       "Spark Web UI available at http://host.docker.internal:4047\n",
       "SparkContext available as 'sc' (version = 3.3.0, master = local[*], app id = local-1669554413591)\n",
       "SparkSession available as 'spark'\n"
      ]
     },
     "metadata": {},
     "output_type": "display_data"
    },
    {
     "data": {
      "text/plain": [
       "import org.apache.spark.sql.SparkSession\r\n",
       "spark: org.apache.spark.sql.SparkSession = org.apache.spark.sql.SparkSession@7b0ba53d\r\n",
       "import spark.implicits._\r\n"
      ]
     },
     "execution_count": 1,
     "metadata": {},
     "output_type": "execute_result"
    }
   ],
   "source": [
    "import org.apache.spark.sql.SparkSession\n",
    "val spark = SparkSession.builder().getOrCreate()\n",
    "import spark.implicits._"
   ]
  },
  {
   "cell_type": "code",
   "execution_count": 2,
   "metadata": {
    "attributes": {
     "classes": [
      "scala"
     ],
     "id": ""
    }
   },
   "outputs": [
    {
     "name": "stdout",
     "output_type": "stream",
     "text": [
      "+---+--------------------+\n",
      "| id|            features|\n",
      "+---+--------------------+\n",
      "|  0|[0.17094971379555...|\n",
      "|  1|[0.03422639313807...|\n",
      "|  2|[0.36546259581613...|\n",
      "|  3|[0.41750190407920...|\n",
      "|  4|[0.98991293998274...|\n",
      "|  5|[0.16452185994603...|\n",
      "|  6|[0.18141810315190...|\n",
      "|  7|[0.49595620559530...|\n",
      "|  8|[0.96974749453753...|\n",
      "|  9|[0.07530606222259...|\n",
      "+---+--------------------+\n",
      "\n"
     ]
    },
    {
     "data": {
      "text/plain": [
       "import org.apache.spark.ml.feature.VectorAssembler\r\n",
       "import org.apache.spark.sql.functions._\r\n",
       "dfRandom: org.apache.spark.sql.DataFrame = [id: bigint, uniform: double ... 2 more fields]\r\n",
       "assembler: org.apache.spark.ml.feature.VectorAssembler = VectorAssembler: uid=vecAssembler_4d76d02a954f, handleInvalid=error, numInputCols=3\r\n",
       "dfVec: org.apache.spark.sql.DataFrame = [id: bigint, uniform: double ... 3 more fields]\r\n"
      ]
     },
     "execution_count": 2,
     "metadata": {},
     "output_type": "execute_result"
    }
   ],
   "source": [
    "// Continuing from Previous Example \n",
    "\n",
    "import  org.apache.spark.ml.feature.VectorAssembler\n",
    "\n",
    "import  org.apache.spark.sql.functions._\n",
    "\n",
    "val dfRandom = spark.range(0, 10).select(\"id\").\n",
    " withColumn(\"uniform\", rand(10L)).\n",
    " withColumn(\"normal1\", randn(10L)).\n",
    " withColumn(\"normal2\", randn(11L))\n",
    "\n",
    "val assembler = new  VectorAssembler().\n",
    " setInputCols(Array(\"uniform\",\"normal1\",\"normal2\")).\n",
    " setOutputCol(\"features\")\n",
    "\n",
    "val dfVec = assembler.transform(dfRandom)\n",
    "\n",
    "\n",
    "// Continuing from Previous Example \n",
    "\n",
    "dfVec.select(\"id\",\"features\").show()\n",
    " "
   ]
  },
  {
   "cell_type": "code",
   "execution_count": 3,
   "metadata": {
    "attributes": {
     "classes": [
      "scala"
     ],
     "id": ""
    }
   },
   "outputs": [
    {
     "name": "stdout",
     "output_type": "stream",
     "text": [
      "+---+--------------------+--------------------+\n",
      "| id|            features|          scaledFeat|\n",
      "+---+--------------------+--------------------+\n",
      "|  0|[0.17094971379555...|[0.06784834504592...|\n",
      "|  1|[0.03422639313807...|[0.01637411312549...|\n",
      "|  2|[0.36546259581613...|[0.62820267089235...|\n",
      "|  3|[0.41750190407920...|[0.24834671851479...|\n",
      "|  4|[0.98991293998274...|[0.75155926146783...|\n",
      "+---+--------------------+--------------------+\n",
      "only showing top 5 rows\n",
      "\n"
     ]
    },
    {
     "data": {
      "text/plain": [
       "import org.apache.spark.ml.feature.Normalizer\r\n",
       "scaler1: org.apache.spark.ml.feature.Normalizer = Normalizer: uid=normalizer_3a737e9d4f79, p=1.0\r\n"
      ]
     },
     "execution_count": 3,
     "metadata": {},
     "output_type": "execute_result"
    }
   ],
   "source": [
    "\n",
    "// A Simple Normalizer \n",
    "\n",
    "import  org.apache.spark.ml.feature.Normalizer\n",
    "\n",
    "val scaler1 = new Normalizer().setInputCol(\"features\").setOutputCol(\"scaledFeat\").setP(1.0)\n",
    "scaler1.transform(dfVec.select(\"id\",\"features\")).show(5)"
   ]
  },
  {
   "cell_type": "markdown",
   "metadata": {},
   "source": [
    "## Standard Scaler\n",
    "\n",
    "-\tA Model which can be fit on a dataset to produce a `StandardScalerModel`\n",
    "-\tA Transformer which transforms a dataset of `Vector` rows, normalizing each feature to have unit standard deviation and/or zero mean\n",
    "- Takes two parameters:\n",
    "\t-\t`withStd`: scales the data to unit standard deviation (default: true)\n",
    "\t-\t`withMean`: centers the data with mean before scaling (default: false)\n",
    "-\tIt builds a dense output, sparse inputs will raise an exception\n",
    "-\tIf the standard deviation of a feature is zero, it returns 0.0 in the Vector for that feature"
   ]
  },
  {
   "cell_type": "code",
   "execution_count": 6,
   "metadata": {
    "attributes": {
     "classes": [
      "scala"
     ],
     "id": ""
    }
   },
   "outputs": [
    {
     "name": "stdout",
     "output_type": "stream",
     "text": [
      "+---+--------------------+--------------------+\n",
      "| id|            features|          scaledFeat|\n",
      "+---+--------------------+--------------------+\n",
      "|  0|[0.17094971379555...|[-0.6232800161534...|\n",
      "|  1|[0.03422639313807...|[-1.0186252770716...|\n",
      "|  2|[0.36546259581613...|[-0.0608321051124...|\n",
      "|  3|[0.41750190407920...|[0.08964327688038...|\n",
      "|  4|[0.98991293998274...|[1.74481072932024...|\n",
      "+---+--------------------+--------------------+\n",
      "only showing top 5 rows\n",
      "\n"
     ]
    },
    {
     "data": {
      "text/plain": [
       "import org.apache.spark.ml.feature.StandardScaler\r\n",
       "scaler2: org.apache.spark.ml.feature.StandardScaler = stdScal_756528a1f26d\r\n",
       "scaler2Model: org.apache.spark.ml.feature.StandardScalerModel = StandardScalerModel: uid=stdScal_756528a1f26d, numFeatures=3, withMean=true, withStd=true\r\n"
      ]
     },
     "execution_count": 6,
     "metadata": {},
     "output_type": "execute_result"
    }
   ],
   "source": [
    "// A Simple Standard Scaler \n",
    "\n",
    "import  org.apache.spark.ml.feature.StandardScaler\n",
    "\n",
    "val  scaler2 = new StandardScaler().\n",
    " setInputCol(\"features\"). setOutputCol(\"scaledFeat\").\n",
    " setWithStd(true). setWithMean(true)\n",
    "\n",
    "val  scaler2Model = scaler2.fit(dfVec.select(\"id\",\"features\"))\n",
    "scaler2Model.transform(dfVec.select(\"id\",\"features\")).show(5)"
   ]
  },
  {
   "cell_type": "markdown",
   "metadata": {},
   "source": [
    "## MinMax Scaler \n",
    "\n",
    "-\tA Model which can be fit on a dataset to produce a `MinMaxScalerModel`\n",
    "-\tA Transformer which transforms a dataset of `Vector` rows, rescaling each feature to a specific range (often `[0,1]`)\n",
    "-\tTakes two parameters: \n",
    "\t-\tmin: lower bound after transformation, shared by all features (default:0.0)\n",
    "\t-\tmax: upper bound after transformation, shared by all features (default: 1.0)\n",
    "-\tSince zero values are likely to be transformed to non-zero values, sparse inputs may result in dense outputs"
   ]
  },
  {
   "cell_type": "code",
   "execution_count": 7,
   "metadata": {
    "attributes": {
     "classes": [
      "scala"
     ],
     "id": ""
    }
   },
   "outputs": [
    {
     "name": "stdout",
     "output_type": "stream",
     "text": [
      "+---+--------------------+--------------------+\n",
      "| id|            features|          scaledFeat|\n",
      "+---+--------------------+--------------------+\n",
      "|  0|[0.17094971379555...|[-0.7138741335035...|\n",
      "|  1|[0.03422639313807...|[-1.0,-1.0,0.1073...|\n",
      "|  2|[0.36546259581613...|[-0.3068099498278...|\n",
      "|  3|[0.41750190407920...|[-0.1979053964784...|\n",
      "|  4|[0.98991293998274...|[1.0,1.0,0.344574...|\n",
      "+---+--------------------+--------------------+\n",
      "only showing top 5 rows\n",
      "\n"
     ]
    },
    {
     "data": {
      "text/plain": [
       "import org.apache.spark.ml.feature.MinMaxScaler\r\n",
       "scaler3: org.apache.spark.ml.feature.MinMaxScaler = minMaxScal_8dc8e3aca96d\r\n",
       "scaler3Model: org.apache.spark.ml.feature.MinMaxScalerModel = MinMaxScalerModel: uid=minMaxScal_8dc8e3aca96d, numFeatures=3, min=-1.0, max=1.0\r\n"
      ]
     },
     "execution_count": 7,
     "metadata": {},
     "output_type": "execute_result"
    }
   ],
   "source": [
    "\n",
    "// A Simple MinMax Scaler \n",
    "import  org.apache.spark.ml.feature.MinMaxScaler \n",
    "\n",
    "val scaler3 = new MinMaxScaler().\n",
    " setInputCol(\"features\").setOutputCol(\"scaledFeat\").\n",
    " setMin(-1.0).setMax(1.0)\n",
    "\n",
    "val scaler3Model = scaler3.fit(dfVec.select(\"id\",\"features\"))\n",
    "scaler3Model.transform(dfVec.select(\"id\",\"features\")).show(5)"
   ]
  },
  {
   "cell_type": "markdown",
   "metadata": {},
   "source": [
    "## Lesson Summary \n",
    "\n",
    "-\tHaving completed this lesson, you should be able to: \n",
    "- Normalize a dataset to have unit p-norm\n",
    "-\tNormalize a dataset to have unit standard deviation and zero mean\n",
    "-\tNormalize a dataset to have given minimum and maximum values\n",
    "\n",
    "### About the Authors\n",
    "\n",
    "[Petro Verkhogliad](https://www.linkedin.com/in/vpetro) is Consulting Manager at Lightbend. He holds a Masters degree in Computer Science with specialization in Intelligent Systems. He is passionate about functional programming and applications of AI."
   ]
  }
 ],
 "metadata": {
  "kernelspec": {
   "display_name": "spylon-kernel",
   "language": "scala",
   "name": "spylon-kernel"
  },
  "language_info": {
   "codemirror_mode": "text/x-scala",
   "file_extension": ".scala",
   "help_links": [
    {
     "text": "MetaKernel Magics",
     "url": "https://metakernel.readthedocs.io/en/latest/source/README.html"
    }
   ],
   "mimetype": "text/x-scala",
   "name": "scala",
   "pygments_lexer": "scala",
   "version": "0.4.1"
  }
 },
 "nbformat": 4,
 "nbformat_minor": 2
}
