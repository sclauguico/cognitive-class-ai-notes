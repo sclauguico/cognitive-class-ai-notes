{
 "cells": [
  {
   "cell_type": "markdown",
   "metadata": {},
   "source": [
    "<a href=\"https://cocl.us/Data_Science_with_Scalla_top\"><img src = \"https://s3-api.us-geo.objectstorage.softlayer.net/cf-courses-data/CognitiveClass/SC0103EN/adds/Data_Science_with_Scalla_notebook_top.png\" width = 750, align = \"center\"></a>\n",
    " <br/>\n",
    "<a><img src=\"https://ibm.box.com/shared/static/ugcqz6ohbvff804xp84y4kqnvvk3bq1g.png\" width=\"200\" align=\"center\"></a>\"\n",
    "\n",
    "# Module 2: Preparing Data\n",
    "\n",
    "## Handling Missing Data and Imputing Values\n",
    "\n",
    "### Lesson Objectives \n",
    "\n",
    "-\tAfter completing this lesson, you should be able to: \n",
    "- Drop records according to different criteria\n",
    "-\tFill missing data according to different criteria\n",
    "-\tDrop duplicate records\n",
    "\n",
    "\n",
    "## DataFrame NA Functions \n",
    "\n",
    "-\tThe `na` method of DataFrames provides functionality for working with missing data \n",
    "- Returns an instance of `DataFrameNAFunctions`\n",
    "-\tThe following methods are available: \n",
    "  -\t`drop`, for dropping rows containing NaN or null values \n",
    "  -\t`fill`, for replacing NaN or null values \n",
    "  -\t`replace`,  for replacing values matching specified keys"
   ]
  },
  {
   "cell_type": "code",
   "execution_count": 1,
   "metadata": {
    "attributes": {
     "classes": [
      "scala"
     ],
     "id": ""
    }
   },
   "outputs": [
    {
     "data": {
      "text/plain": [
       "Intitializing Scala interpreter ..."
      ]
     },
     "metadata": {},
     "output_type": "display_data"
    },
    {
     "data": {
      "text/plain": [
       "Spark Web UI available at http://host.docker.internal:4045\n",
       "SparkContext available as 'sc' (version = 3.3.0, master = local[*], app id = local-1669538170415)\n",
       "SparkSession available as 'spark'\n"
      ]
     },
     "metadata": {},
     "output_type": "display_data"
    },
    {
     "data": {
      "text/plain": [
       "import org.apache.spark.sql.SparkSession\r\n",
       "spark: org.apache.spark.sql.SparkSession = org.apache.spark.sql.SparkSession@76548b57\r\n",
       "import spark.implicits._\r\n",
       "import org.apache.spark.sql.functions._\r\n"
      ]
     },
     "execution_count": 1,
     "metadata": {},
     "output_type": "execute_result"
    }
   ],
   "source": [
    "import org.apache.spark.sql.SparkSession\n",
    "val spark = SparkSession.builder().getOrCreate()\n",
    "import spark.implicits._\n",
    "import org.apache.spark.sql.functions._"
   ]
  },
  {
   "cell_type": "code",
   "execution_count": 3,
   "metadata": {
    "attributes": {
     "classes": [
      "scala"
     ],
     "id": ""
    }
   },
   "outputs": [
    {
     "name": "stdout",
     "output_type": "stream",
     "text": [
      "+---+-------------------+--------------------+\n",
      "| id|            uniform|           nanNormal|\n",
      "+---+-------------------+--------------------+\n",
      "|  0| 0.1709497137955568| -0.4823162289462346|\n",
      "|  1|0.03422639313807285|  -1.866319666602813|\n",
      "|  2| 0.3654625958161396|-0.18972856311959985|\n",
      "|  3| 0.4175019040792016|-0.02656790187341...|\n",
      "|  4|                NaN| 0.15777284033895733|\n",
      "|  5|0.16452185994603707| -1.2370553024281632|\n",
      "|  6|0.18141810315190554|  -1.140722328482787|\n",
      "|  7|0.49595620559530806|-0.01560854938969...|\n",
      "|  8|                NaN| -0.6471976318591632|\n",
      "|  9|0.07530606222259384| 0.06487585190313583|\n",
      "+---+-------------------+--------------------+\n",
      "\n"
     ]
    },
    {
     "data": {
      "text/plain": [
       "df: org.apache.spark.sql.DataFrame = [id: bigint, uniform: double ... 1 more field]\r\n",
       "halfTonNaN: org.apache.spark.sql.expressions.UserDefinedFunction = SparkUserDefinedFunction($Lambda$3817/0x00000001016e1840@470e17c1,DoubleType,List(Some(class[value[0]: double])),Some(class[value[0]: double]),None,false,true)\r\n",
       "oneToNaN: org.apache.spark.sql.expressions.UserDefinedFunction = SparkUserDefinedFunction($Lambda$3818/0x0000000101680040@35884101,DoubleType,List(Some(class[value[0]: double])),Some(class[value[0]: double]),None,false,true)\r\n",
       "dfnan: org.apache.spark.sql.DataFrame = [id: bigint, uniform: double ... 1 more field]\r\n"
      ]
     },
     "execution_count": 3,
     "metadata": {},
     "output_type": "execute_result"
    }
   ],
   "source": [
    "val df = spark.range(0, 10).select(\"id\").\n",
    "    withColumn(\"uniform\", rand(10L)).withColumn(\"normal\", randn(10L))\n",
    "\n",
    "val halfTonNaN = udf[Double, Double] (x => if (x > 0.5) Double.NaN else x)\n",
    "\n",
    "val oneToNaN = udf[Double, Double] (x => if (x > 1.0) Double.NaN else x) \n",
    "\n",
    "val dfnan = df.withColumn(\"nanUniform\", halfTonNaN(df(\"uniform\"))).\n",
    "    withColumn(\"nanNormal\", oneToNaN(df(\"normal\"))).drop(\"uniform\"). \n",
    "    withColumnRenamed(\"nanUniform\", \"uniform\").drop(\"normal\"). \n",
    "    withColumnRenamed(\"nanNoemal\", \"normal\")\n",
    "\n",
    "dfnan.show()"
   ]
  },
  {
   "cell_type": "markdown",
   "metadata": {},
   "source": [
    "## DataFrame NA Functions - drop \n",
    "\n",
    "-\t`drop` is used for dropping rows containing `NaN` or `null` values according to a criteria \n",
    "-\tSeveral implementations available:\n",
    "  -\t`drop(minNonNulls, cols)`\n",
    "  -\t`drop(minNonNulls)`\n",
    "  -\t`drop(how,cols)`\n",
    "  - `drop(cols)`\n",
    "  -\t`drop(how)`\n",
    "  -\t`drop()`\n",
    "-\t`cols` is an `Array` or `Seq` of column names\n",
    "- how should be equal any or all"
   ]
  },
  {
   "cell_type": "code",
   "execution_count": 4,
   "metadata": {
    "attributes": {
     "classes": [
      "scala"
     ],
     "id": ""
    }
   },
   "outputs": [
    {
     "name": "stdout",
     "output_type": "stream",
     "text": [
      "+---+-------------------+--------------------+\n",
      "| id|            uniform|           nanNormal|\n",
      "+---+-------------------+--------------------+\n",
      "|  0| 0.1709497137955568| -0.4823162289462346|\n",
      "|  1|0.03422639313807285|  -1.866319666602813|\n",
      "|  2| 0.3654625958161396|-0.18972856311959985|\n",
      "|  3| 0.4175019040792016|-0.02656790187341...|\n",
      "|  5|0.16452185994603707| -1.2370553024281632|\n",
      "|  6|0.18141810315190554|  -1.140722328482787|\n",
      "|  7|0.49595620559530806|-0.01560854938969...|\n",
      "|  9|0.07530606222259384| 0.06487585190313583|\n",
      "+---+-------------------+--------------------+\n",
      "\n"
     ]
    }
   ],
   "source": [
    "// Dropping Rows With minNonNulls Argument \n",
    "dfnan.na.drop(minNonNulls = 3).show()"
   ]
  },
  {
   "cell_type": "code",
   "execution_count": 5,
   "metadata": {
    "attributes": {
     "classes": [
      "scala"
     ],
     "id": ""
    }
   },
   "outputs": [
    {
     "name": "stdout",
     "output_type": "stream",
     "text": [
      "+---+-------------------+--------------------+\n",
      "| id|            uniform|           nanNormal|\n",
      "+---+-------------------+--------------------+\n",
      "|  0| 0.1709497137955568| -0.4823162289462346|\n",
      "|  1|0.03422639313807285|  -1.866319666602813|\n",
      "|  2| 0.3654625958161396|-0.18972856311959985|\n",
      "|  3| 0.4175019040792016|-0.02656790187341...|\n",
      "|  4|                NaN| 0.15777284033895733|\n",
      "|  5|0.16452185994603707| -1.2370553024281632|\n",
      "|  6|0.18141810315190554|  -1.140722328482787|\n",
      "|  7|0.49595620559530806|-0.01560854938969...|\n",
      "|  8|                NaN| -0.6471976318591632|\n",
      "|  9|0.07530606222259384| 0.06487585190313583|\n",
      "+---+-------------------+--------------------+\n",
      "\n"
     ]
    }
   ],
   "source": [
    "// Dropping Rows With How Argument \n",
    "dfnan.na.drop(\"all\", Array(\"uniform\", \"nanNormal\")).show()"
   ]
  },
  {
   "cell_type": "code",
   "execution_count": 6,
   "metadata": {
    "attributes": {
     "classes": [
      "scala"
     ],
     "id": ""
    }
   },
   "outputs": [
    {
     "name": "stdout",
     "output_type": "stream",
     "text": [
      "+---+-------------------+--------------------+\n",
      "| id|            uniform|           nanNormal|\n",
      "+---+-------------------+--------------------+\n",
      "|  0| 0.1709497137955568| -0.4823162289462346|\n",
      "|  1|0.03422639313807285|  -1.866319666602813|\n",
      "|  2| 0.3654625958161396|-0.18972856311959985|\n",
      "|  3| 0.4175019040792016|-0.02656790187341...|\n",
      "|  5|0.16452185994603707| -1.2370553024281632|\n",
      "|  6|0.18141810315190554|  -1.140722328482787|\n",
      "|  7|0.49595620559530806|-0.01560854938969...|\n",
      "|  9|0.07530606222259384| 0.06487585190313583|\n",
      "+---+-------------------+--------------------+\n",
      "\n"
     ]
    }
   ],
   "source": [
    "// Dropping Rows With How Argument \n",
    "dfnan.na.drop(\"any\", Array(\"uniform\", \"nanNormal\")).show()"
   ]
  },
  {
   "cell_type": "markdown",
   "metadata": {},
   "source": [
    "## DataFrame NA Functions - fill \n",
    "\n",
    "-\t`fill` is used for replacing NaN or null values according to a criteria\n",
    "-\tSeveral implementations available:\n",
    "  - `fill(valueMap)`\n",
    "  -\t`fill(value,cols)`\n",
    "  -\t`fill(value)`"
   ]
  },
  {
   "cell_type": "code",
   "execution_count": 7,
   "metadata": {
    "attributes": {
     "classes": [
      "scala"
     ],
     "id": ""
    }
   },
   "outputs": [
    {
     "name": "stdout",
     "output_type": "stream",
     "text": [
      "+---+-------------------+--------------------+\n",
      "| id|            uniform|           nanNormal|\n",
      "+---+-------------------+--------------------+\n",
      "|  0| 0.1709497137955568| -0.4823162289462346|\n",
      "|  1|0.03422639313807285|  -1.866319666602813|\n",
      "|  2| 0.3654625958161396|-0.18972856311959985|\n",
      "|  3| 0.4175019040792016|-0.02656790187341...|\n",
      "|  4|                0.0| 0.15777284033895733|\n",
      "|  5|0.16452185994603707| -1.2370553024281632|\n",
      "|  6|0.18141810315190554|  -1.140722328482787|\n",
      "|  7|0.49595620559530806|-0.01560854938969...|\n",
      "|  8|                0.0| -0.6471976318591632|\n",
      "|  9|0.07530606222259384| 0.06487585190313583|\n",
      "+---+-------------------+--------------------+\n",
      "\n",
      "+---+-------------------+--------------------+\n",
      "| id|            uniform|           nanNormal|\n",
      "+---+-------------------+--------------------+\n",
      "|  0| 0.1709497137955568| -0.4823162289462346|\n",
      "|  1|0.03422639313807285|  -1.866319666602813|\n",
      "|  2| 0.3654625958161396|-0.18972856311959985|\n",
      "|  3| 0.4175019040792016|-0.02656790187341...|\n",
      "|  4| 0.2381678547181019| 0.15777284033895733|\n",
      "+---+-------------------+--------------------+\n",
      "only showing top 5 rows\n",
      "\n",
      "+---+-------------------+--------------------+\n",
      "| id|            uniform|           nanNormal|\n",
      "+---+-------------------+--------------------+\n",
      "|  0| 0.1709497137955568| -0.4823162289462346|\n",
      "|  1|0.03422639313807285|  -1.866319666602813|\n",
      "|  2| 0.3654625958161396|-0.18972856311959985|\n",
      "|  3| 0.4175019040792016|-0.02656790187341...|\n",
      "|  4| 0.2381678547181019| 0.15777284033895733|\n",
      "+---+-------------------+--------------------+\n",
      "only showing top 5 rows\n",
      "\n"
     ]
    },
    {
     "data": {
      "text/plain": [
       "uniformMean: Any = 0.2381678547181019\r\n",
       "dfCols: Array[String] = Array(uniform, nanNormal)\r\n",
       "dfMeans: Seq[Any] = WrappedArray(0.2381678547181019, -0.6116803361174477)\r\n",
       "meansMap: scala.collection.immutable.Map[String,Any] = Map(uniform -> 0.2381678547181019, nanNormal -> -0.6116803361174477)\r\n"
      ]
     },
     "execution_count": 7,
     "metadata": {},
     "output_type": "execute_result"
    }
   ],
   "source": [
    "// Filling Missing Data By Column Type\n",
    "dfnan.na.fill(0.0).show()   \n",
    "\n",
    "// Filling Missing Data With Column Defaults \n",
    "val uniformMean = dfnan.filter(\"uniform <> 'NaN'\").groupBy().agg(mean(\"uniform\")).first()(0)\n",
    "\n",
    "dfnan.na.fill(Map(\"uniform\" -> uniformMean)).show(5)\n",
    "\n",
    "// Filling Missing Data With Column Defaults \n",
    "val dfCols = dfnan.columns.drop(1)\n",
    "\n",
    "val dfMeans = dfnan.na.drop().groupBy().\n",
    "agg(mean(\"uniform\"), mean(\"nanNormal\")).first().toSeq\n",
    "\n",
    "val meansMap = (dfCols.zip(dfMeans)).toMap\n",
    "dfnan.na.fill(meansMap).show(5)"
   ]
  },
  {
   "cell_type": "markdown",
   "metadata": {},
   "source": [
    "## DataFrame NA Functions - replace \n",
    "\n",
    "-\t`replace` is used for replacing values matching specified keys\n",
    "-\t`cols` argument may be a single column name or an array\n",
    "-\treplacement argument is a map: \n",
    "  -\t`key` is the value to be matched \n",
    "  -\t`value` is the replacement value itself"
   ]
  },
  {
   "cell_type": "code",
   "execution_count": 8,
   "metadata": {
    "attributes": {
     "classes": [
      "scala"
     ],
     "id": ""
    }
   },
   "outputs": [
    {
     "name": "stdout",
     "output_type": "stream",
     "text": [
      "+---+-------------------+--------------------+\n",
      "| id|            uniform|           nanNormal|\n",
      "+---+-------------------+--------------------+\n",
      "|  0| 0.1709497137955568| -0.4823162289462346|\n",
      "|  1|0.03422639313807285|  -1.866319666602813|\n",
      "|  2| 0.3654625958161396|-0.18972856311959985|\n",
      "|  3| 0.4175019040792016|-0.02656790187341...|\n",
      "|  4|                0.0| 0.15777284033895733|\n",
      "|  5|0.16452185994603707| -1.2370553024281632|\n",
      "|  6|0.18141810315190554|  -1.140722328482787|\n",
      "|  7|0.49595620559530806|-0.01560854938969...|\n",
      "|  8|                0.0| -0.6471976318591632|\n",
      "|  9|0.07530606222259384| 0.06487585190313583|\n",
      "+---+-------------------+--------------------+\n",
      "\n"
     ]
    }
   ],
   "source": [
    "//Replacing Values in a DataFrame \n",
    "\n",
    "dfnan.na.replace(\"uniform\", Map(Double.NaN -> 0.0)).show()"
   ]
  },
  {
   "cell_type": "markdown",
   "metadata": {},
   "source": [
    "## Duplicates\n",
    "\n",
    "-\t`dropDuplicates` is a `DataFrame` method \n",
    "-\tUsed to remove duplicate rows\n",
    "-\tMay specify a subset of columns to check for duplicates"
   ]
  },
  {
   "cell_type": "code",
   "execution_count": 9,
   "metadata": {
    "attributes": {
     "classes": [
      "scala"
     ],
     "id": ""
    }
   },
   "outputs": [
    {
     "name": "stdout",
     "output_type": "stream",
     "text": [
      "+---+-------------------+--------------------+\n",
      "| id|            uniform|              normal|\n",
      "+---+-------------------+--------------------+\n",
      "|  0| 0.1709497137955568| -0.4823162289462346|\n",
      "|  1|0.03422639313807285|  -1.866319666602813|\n",
      "|  2| 0.3654625958161396|-0.18972856311959985|\n",
      "|  3| 0.4175019040792016|-0.02656790187341...|\n",
      "|  4| 0.9899129399827472| 0.15777284033895733|\n",
      "|  5|0.16452185994603707| -1.2370553024281632|\n",
      "|  6|0.18141810315190554|  -1.140722328482787|\n",
      "|  7|0.49595620559530806|-0.01560854938969...|\n",
      "|  9|0.07530606222259384| 0.06487585190313583|\n",
      "|  8| 0.9697474945375325| -0.6471976318591632|\n",
      "| 10|                1.0|                 1.0|\n",
      "| 11|                1.0|                 1.0|\n",
      "+---+-------------------+--------------------+\n",
      "\n"
     ]
    },
    {
     "data": {
      "text/plain": [
       "dfDuplicates: org.apache.spark.sql.Dataset[org.apache.spark.sql.Row] = [id: bigint, uniform: double ... 1 more field]\r\n",
       "dfCols: Array[String] = Array(id, uniform, normal)\r\n"
      ]
     },
     "execution_count": 9,
     "metadata": {},
     "output_type": "execute_result"
    }
   ],
   "source": [
    "// Dropping Duplicate Rows \n",
    "val dfDuplicates = df.unionAll(sc.parallelize(Seq((10,1,1),(11,1,1))).toDF())\n",
    "\n",
    "// Dropping Duplicate Rows \n",
    "val dfCols = dfnan.withColumnRenamed(\"nanNormal\", \"normal\").columns\n",
    "\n",
    "dfDuplicates.dropDuplicates(dfCols).show()"
   ]
  },
  {
   "cell_type": "markdown",
   "metadata": {},
   "source": [
    "## Lesson Summary\n",
    "\n",
    "-\tHaving completed this lesson, you should be able to: \n",
    "- Drop records according to different criteria\n",
    "-\tFill missing data according to different criteria\n",
    "-\tDrop duplicate records\n",
    "\n",
    "### About the Authors\n",
    "\n",
    "[Petro Verkhogliad](https://www.linkedin.com/in/vpetro) is Consulting Manager at Lightbend. He holds a Masters degree in Computer Science with specialization in Intelligent Systems. He is passionate about functional programming and applications of AI."
   ]
  }
 ],
 "metadata": {
  "kernelspec": {
   "display_name": "spylon-kernel",
   "language": "scala",
   "name": "spylon-kernel"
  },
  "language_info": {
   "codemirror_mode": "text/x-scala",
   "file_extension": ".scala",
   "help_links": [
    {
     "text": "MetaKernel Magics",
     "url": "https://metakernel.readthedocs.io/en/latest/source/README.html"
    }
   ],
   "mimetype": "text/x-scala",
   "name": "scala",
   "pygments_lexer": "scala",
   "version": "0.4.1"
  }
 },
 "nbformat": 4,
 "nbformat_minor": 2
}
