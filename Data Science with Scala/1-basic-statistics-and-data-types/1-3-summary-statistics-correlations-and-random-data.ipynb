{
 "cells": [
  {
   "cell_type": "markdown",
   "metadata": {},
   "source": [
    "<a href=\"https://cocl.us/Data_Science_with_Scalla_top\"><img src = \"https://s3-api.us-geo.objectstorage.softlayer.net/cf-courses-data/CognitiveClass/SC0103EN/adds/Data_Science_with_Scalla_notebook_top.png\" width = 750, align = \"center\"></a>\n",
    " <br/>\n",
    "<a><img src=\"https://ibm.box.com/shared/static/ugcqz6ohbvff804xp84y4kqnvvk3bq1g.png\" width=\"200\" align=\"center\"></a>\"\n",
    "\n",
    "# Basic Statistics and Data Types - Summary Statistics, Correlations, and Random Data \n",
    "\n",
    "## Summary Statistics, Correlations, and Random Data \n",
    "\n",
    "## Lesson Objectives \n",
    "\n",
    "- After completing this lesson, you should be able to:\n",
    "- Compute column summary statistics\n",
    "- Compute pairwise correlations between series/columns\n",
    "- Generate random data from different distributions \n",
    "\n",
    "\n",
    "## Summary Statistics \n",
    "- Column summary statistics for an instance of `RDD[Vector]` are available through the `colStats()` function in Statistics \n",
    "-\tIt returns an instance of `MultivariateStatisticalSummary`, which contains column-wise results for: \n",
    "-\t`min`, `max`\n",
    "-\t`mean`, `variance` \n",
    "-\t`numNonzeros`\n",
    "-\t`normL1`, `normL2`\n",
    "-\t`count` returns the total count of elements"
   ]
  },
  {
   "cell_type": "code",
   "execution_count": 1,
   "metadata": {
    "attributes": {
     "classes": [
      "scala"
     ],
     "id": ""
    }
   },
   "outputs": [
    {
     "data": {
      "text/plain": [
       "Intitializing Scala interpreter ..."
      ]
     },
     "metadata": {},
     "output_type": "display_data"
    },
    {
     "data": {
      "text/plain": [
       "Spark Web UI available at http://host.docker.internal:4042\n",
       "SparkContext available as 'sc' (version = 3.3.0, master = local[*], app id = local-1669534079973)\n",
       "SparkSession available as 'spark'\n"
      ]
     },
     "metadata": {},
     "output_type": "display_data"
    },
    {
     "name": "stdout",
     "output_type": "stream",
     "text": [
      "(mean,[4.0,5.0])\n",
      "(variance,[9.0,9.0])\n",
      "(Nonzeros,[3.0,3.0])\n",
      "(L1 norm,[12.0,15.0])\n",
      "(L2 norm,[8.12403840463596,9.643650760992955])\n"
     ]
    },
    {
     "data": {
      "text/plain": [
       "import org.apache.spark.mllib.linalg.{Vector, Vectors}\r\n",
       "import org.apache.spark.mllib.linalg.{Matrix, Matrices}\r\n",
       "import org.apache.spark.rdd.RDD\r\n",
       "import org.apache.spark.mllib.stat.Statistics\r\n",
       "import org.apache.spark.mllib.stat.MultivariateStatisticalSummary\r\n",
       "observations: org.apache.spark.rdd.RDD[org.apache.spark.mllib.linalg.Vector] = ParallelCollectionRDD[0] at parallelize at <console>:30\r\n",
       "summary: org.apache.spark.mllib.stat.MultivariateStatisticalSummary = org.apache.spark.mllib.stat.MultivariateOnlineSummarizer@5264b94b\r\n"
      ]
     },
     "execution_count": 1,
     "metadata": {},
     "output_type": "execute_result"
    }
   ],
   "source": [
    "import org.apache.spark.mllib.linalg.{Vector, Vectors}\n",
    "import org.apache.spark.mllib.linalg.{Matrix, Matrices}\n",
    "import org.apache.spark.rdd.RDD\n",
    "import org.apache.spark.mllib.stat.Statistics \n",
    "import org.apache.spark.mllib.stat.MultivariateStatisticalSummary\n",
    "\n",
    "val observations: RDD[Vector] = sc.parallelize(Array(\n",
    "    Vectors.dense(1.0, 2.0), \n",
    "    Vectors.dense(4.0, 5.0), \n",
    "    Vectors.dense(7.0, 8.0)))\n",
    "    \n",
    "val summary: MultivariateStatisticalSummary = Statistics.colStats(observations)\n",
    "\n",
    "println(\"mean\",summary.mean)\n",
    "\n",
    "println(\"variance\",  summary.variance)\n",
    "\n",
    "println(\"Nonzeros\",summary.numNonzeros)\n",
    "println(\"L1 norm\",summary.normL1)\n",
    "println(\"L2 norm\",summary.normL2)\n",
    "\n"
   ]
  },
  {
   "cell_type": "markdown",
   "metadata": {},
   "source": [
    "## Correlations\n",
    "\n",
    "-\tPairwise correlations among series is available through the `corr()` function in Statistics \n",
    "-\tCorrelation methods supported: \n",
    "-\tPearson (default)\n",
    "-\t`Spearman` (used for rank variables)\n",
    "-\tInputs supported: \n",
    "-\ttwo `RDD[Double]`s, returning a single Double value\n",
    "-\tan `RDD[Vector],` returning a correlation Matrix \n",
    "\n",
    "\n",
    "## Pearson Correlation Between Two Series"
   ]
  },
  {
   "cell_type": "code",
   "execution_count": 2,
   "metadata": {
    "attributes": {
     "classes": [
      "scala"
     ],
     "id": ""
    }
   },
   "outputs": [
    {
     "name": "stdout",
     "output_type": "stream",
     "text": [
      "22/11/27 15:28:12 WARN ProcfsMetricsGetter: Exception when trying to compute pagesize, as a result reporting of ProcessTree metrics is stopped\r\n"
     ]
    },
    {
     "data": {
      "text/plain": [
       "x: org.apache.spark.rdd.RDD[Double] = ParallelCollectionRDD[5] at parallelize at <console>:29\r\n",
       "y: org.apache.spark.rdd.RDD[Double] = ParallelCollectionRDD[6] at parallelize at <console>:30\r\n",
       "correlation: Double = -0.5610408535732833\r\n",
       "res1: Double = -0.5610408535732833\r\n"
      ]
     },
     "execution_count": 2,
     "metadata": {},
     "output_type": "execute_result"
    }
   ],
   "source": [
    "\n",
    "val x: RDD[Double] = sc.parallelize(Array(2.0, 9.0, -7.0))\n",
    "val y: RDD[Double]= sc.parallelize(Array(1.0, 3.0, 5.0))\n",
    "val correlation: Double = Statistics.corr(x, y, \"pearson\")\n",
    "\n",
    "correlation "
   ]
  },
  {
   "cell_type": "code",
   "execution_count": 3,
   "metadata": {
    "attributes": {
     "classes": [
      "scala"
     ],
     "id": ""
    }
   },
   "outputs": [
    {
     "data": {
      "text/plain": [
       "data: org.apache.spark.rdd.RDD[org.apache.spark.mllib.linalg.Vector] = ParallelCollectionRDD[19] at parallelize at <console>:31\r\n",
       "correlMatrix: org.apache.spark.mllib.linalg.Matrix =\r\n",
       "1.0                  0.05241424183609593  -0.644902021637024\r\n",
       "0.05241424183609593  1.0                  -0.7970167702187486\r\n",
       "-0.644902021637024   -0.7970167702187486  1.0\r\n",
       "res2: org.apache.spark.mllib.linalg.Matrix =\r\n",
       "1.0                  0.05241424183609593  -0.644902021637024\r\n",
       "0.05241424183609593  1.0                  -0.7970167702187486\r\n",
       "-0.644902021637024   -0.7970167702187486  1.0\r\n"
      ]
     },
     "execution_count": 3,
     "metadata": {},
     "output_type": "execute_result"
    }
   ],
   "source": [
    "\n",
    "// Pearson Correlation among Series\n",
    "\n",
    "val  data: RDD[Vector] = sc.parallelize(Array(\n",
    "    Vectors.dense(2.0, 9.0, -7.0),\n",
    "    Vectors.dense(1.0, -3.0, 5.0), \n",
    "    Vectors.dense(4.0, 0.0, -5.0)))\n",
    "\n",
    "val correlMatrix: Matrix = Statistics.corr(data, \"pearson\")\n",
    "\n",
    "correlMatrix"
   ]
  },
  {
   "cell_type": "code",
   "execution_count": 4,
   "metadata": {
    "attributes": {
     "classes": [
      "scala"
     ],
     "id": ""
    }
   },
   "outputs": [
    {
     "name": "stdout",
     "output_type": "stream",
     "text": [
      "Pearson\n",
      "1.0                 1.0                 0.8485552916276635  \n",
      "1.0                 1.0                 0.8485552916276635  \n",
      "0.8485552916276635  0.8485552916276635  1.0                 \n",
      "Spearman\n",
      "1.0  1.0  1.0  \n",
      "1.0  1.0  1.0  \n",
      "1.0  1.0  1.0  \n"
     ]
    },
    {
     "data": {
      "text/plain": [
       "ranks: org.apache.spark.rdd.RDD[org.apache.spark.mllib.linalg.Vector] = ParallelCollectionRDD[30] at parallelize at <console>:31\r\n",
       "corrPearsonMatrix: org.apache.spark.mllib.linalg.Matrix =\r\n",
       "1.0                 1.0                 0.8485552916276635\r\n",
       "1.0                 1.0                 0.8485552916276635\r\n",
       "0.8485552916276635  0.8485552916276635  1.0\r\n",
       "corrSpearmanMatrix: org.apache.spark.mllib.linalg.Matrix =\r\n",
       "1.0  1.0  1.0\r\n",
       "1.0  1.0  1.0\r\n",
       "1.0  1.0  1.0\r\n"
      ]
     },
     "execution_count": 4,
     "metadata": {},
     "output_type": "execute_result"
    }
   ],
   "source": [
    "\n",
    "// Pearson vs Spearman Correlation among Series \n",
    "\n",
    "val ranks: RDD[Vector] = sc.parallelize(Array(Vectors.dense(1.0,2.0,3.0),\n",
    "    Vectors.dense(5.0,6.0,4.0), Vectors.dense(7.0,8.0,9.0)))\n",
    "\n",
    "val corrPearsonMatrix: Matrix = Statistics.corr(ranks, \"pearson\")\n",
    "println(\"Pearson\")\n",
    "println(corrPearsonMatrix)\n",
    "\n",
    "val corrSpearmanMatrix: Matrix = Statistics.corr(ranks, \"spearman\")\n",
    "println(\"Spearman\")\n",
    "println(corrSpearmanMatrix)"
   ]
  },
  {
   "cell_type": "markdown",
   "metadata": {},
   "source": [
    "## Random Data Generation\n",
    "\n",
    "-\tRandomRDDs generate either random double RDDs or vector RDDs\n",
    "-\tSupported distributions: \n",
    "-\tuniform, normal, lognormal, poisson, exponential, and gamma \n",
    "-\tUseful for randomized algorithms, prototyping and performance testing"
   ]
  },
  {
   "cell_type": "code",
   "execution_count": 5,
   "metadata": {
    "attributes": {
     "classes": [
      "scala"
     ],
     "id": ""
    }
   },
   "outputs": [
    {
     "name": "stdout",
     "output_type": "stream",
     "text": [
      "(mean,1.0009210000000055)\n",
      "(variance,1.0007461517590006)\n"
     ]
    },
    {
     "data": {
      "text/plain": [
       "import org.apache.spark.mllib.random.RandomRDDs._\r\n",
       "million: org.apache.spark.rdd.RDD[Double] = RandomRDD[60] at RDD at RandomRDD.scala:42\r\n"
      ]
     },
     "execution_count": 5,
     "metadata": {},
     "output_type": "execute_result"
    }
   ],
   "source": [
    "// Simple Example \n",
    "import org.apache.spark.mllib.random.RandomRDDs._\n",
    "\n",
    "val million = poissonRDD(sc, mean=1.0, size=1000000L, numPartitions=10)\n",
    "\n",
    "println( \"mean\", million.mean )\n",
    "println( \"variance\",million.variance)"
   ]
  },
  {
   "cell_type": "code",
   "execution_count": 6,
   "metadata": {
    "attributes": {
     "classes": [
      "scala"
     ],
     "id": ""
    }
   },
   "outputs": [
    {
     "name": "stdout",
     "output_type": "stream",
     "text": [
      "(mean,[-0.01078775301005104,0.006798741600797235,0.004637051585514236])\n",
      "(variance,[0.969138270272214,1.0119025986388441,1.008312170284471])\n"
     ]
    },
    {
     "data": {
      "text/plain": [
       "import org.apache.spark.mllib.random.RandomRDDs._\r\n",
       "data: org.apache.spark.rdd.RDD[org.apache.spark.mllib.linalg.Vector] = RandomVectorRDD[63] at RDD at RandomRDD.scala:64\r\n",
       "stats: org.apache.spark.mllib.stat.MultivariateStatisticalSummary = org.apache.spark.mllib.stat.MultivariateOnlineSummarizer@63dfdb10\r\n"
      ]
     },
     "execution_count": 6,
     "metadata": {},
     "output_type": "execute_result"
    }
   ],
   "source": [
    "// Simple Vector Example\n",
    "\n",
    "import org.apache.spark.mllib.random.RandomRDDs._\n",
    "\n",
    "val data = normalVectorRDD(sc, numRows=10000L, numCols=3, numPartitions=10)\n",
    "val stats: MultivariateStatisticalSummary = Statistics.colStats(data)\n",
    "\n",
    "\n",
    "println( \"mean\", stats.mean)\n",
    "println( \"variance\",stats.variance)"
   ]
  },
  {
   "cell_type": "markdown",
   "metadata": {},
   "source": [
    "## Available Distributions \n",
    "\t\n",
    "-\t`exponentialRDD` \n",
    "-\t`gammaRDD`\n",
    "-\t`logNormalRDD`\n",
    "- `normalRDD`\n",
    "-\t`poissonRDD`\n",
    "-\t`uniformRDD`\n",
    "-\t`exponentialVectorRDD`\n",
    "-\t`gammaVectorRDD`\n",
    "-\t`logNormalVectorRDD`\n",
    "-\t`normalVectorRDD`\n",
    "-\t`poissonVectorRDD`\n",
    "-\t`uniformVectorRDD`\n",
    "\n",
    "## Lesson Summary \n",
    "\n",
    "-\tHaving completed this lesson, you should now be able to: \n",
    "- Compute column summary statistics \n",
    "-\tCompute pairwise correlations between series/columns \n",
    "-\tGenerate random data from different distributions\n",
    "\n",
    "### About the Authors\n",
    "\n",
    "[Petro Verkhogliad](https://www.linkedin.com/in/vpetro) is Consulting Manager at Lightbend. He holds a Masters degree in Computer Science with specialization in Intelligent Systems. He is passionate about functional programming and applications of AI."
   ]
  },
  {
   "cell_type": "code",
   "execution_count": null,
   "metadata": {},
   "outputs": [],
   "source": []
  }
 ],
 "metadata": {
  "kernelspec": {
   "display_name": "spylon-kernel",
   "language": "scala",
   "name": "spylon-kernel"
  },
  "language_info": {
   "codemirror_mode": "text/x-scala",
   "file_extension": ".scala",
   "help_links": [
    {
     "text": "MetaKernel Magics",
     "url": "https://metakernel.readthedocs.io/en/latest/source/README.html"
    }
   ],
   "mimetype": "text/x-scala",
   "name": "scala",
   "pygments_lexer": "scala",
   "version": "0.4.1"
  }
 },
 "nbformat": 4,
 "nbformat_minor": 2
}
